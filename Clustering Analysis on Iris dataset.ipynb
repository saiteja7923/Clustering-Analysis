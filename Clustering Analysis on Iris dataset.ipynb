{
 "cells": [
  {
   "cell_type": "markdown",
   "metadata": {},
   "source": [
    "### Clustering Analysis on Iris Dataset"
   ]
  },
  {
   "cell_type": "code",
   "execution_count": 1,
   "metadata": {},
   "outputs": [],
   "source": [
    "import pandas as pd\n",
    "import matplotlib.pyplot as plt\n",
    "import numpy as np"
   ]
  },
  {
   "cell_type": "markdown",
   "metadata": {},
   "source": [
    "1. Load and Explore the Dataset: (1 point)\n",
    "\n",
    "a. Load the Iris dataset from the `sklearn.datasets` module.\n",
    "from sklearn.datasets import load_iris\n",
    "iris = load_iris()"
   ]
  },
  {
   "cell_type": "code",
   "execution_count": 2,
   "metadata": {},
   "outputs": [],
   "source": [
    "from sklearn.datasets import load_iris\n",
    "iris = load_iris()"
   ]
  },
  {
   "cell_type": "code",
   "execution_count": 3,
   "metadata": {},
   "outputs": [],
   "source": [
    "df = pd.DataFrame(data=iris.data, columns=iris.feature_names)"
   ]
  },
  {
   "cell_type": "code",
   "execution_count": 4,
   "metadata": {
    "scrolled": true
   },
   "outputs": [
    {
     "data": {
      "text/html": [
       "<div>\n",
       "<style scoped>\n",
       "    .dataframe tbody tr th:only-of-type {\n",
       "        vertical-align: middle;\n",
       "    }\n",
       "\n",
       "    .dataframe tbody tr th {\n",
       "        vertical-align: top;\n",
       "    }\n",
       "\n",
       "    .dataframe thead th {\n",
       "        text-align: right;\n",
       "    }\n",
       "</style>\n",
       "<table border=\"1\" class=\"dataframe\">\n",
       "  <thead>\n",
       "    <tr style=\"text-align: right;\">\n",
       "      <th></th>\n",
       "      <th>sepal length (cm)</th>\n",
       "      <th>sepal width (cm)</th>\n",
       "      <th>petal length (cm)</th>\n",
       "      <th>petal width (cm)</th>\n",
       "    </tr>\n",
       "  </thead>\n",
       "  <tbody>\n",
       "    <tr>\n",
       "      <th>0</th>\n",
       "      <td>5.1</td>\n",
       "      <td>3.5</td>\n",
       "      <td>1.4</td>\n",
       "      <td>0.2</td>\n",
       "    </tr>\n",
       "    <tr>\n",
       "      <th>1</th>\n",
       "      <td>4.9</td>\n",
       "      <td>3.0</td>\n",
       "      <td>1.4</td>\n",
       "      <td>0.2</td>\n",
       "    </tr>\n",
       "    <tr>\n",
       "      <th>2</th>\n",
       "      <td>4.7</td>\n",
       "      <td>3.2</td>\n",
       "      <td>1.3</td>\n",
       "      <td>0.2</td>\n",
       "    </tr>\n",
       "    <tr>\n",
       "      <th>3</th>\n",
       "      <td>4.6</td>\n",
       "      <td>3.1</td>\n",
       "      <td>1.5</td>\n",
       "      <td>0.2</td>\n",
       "    </tr>\n",
       "    <tr>\n",
       "      <th>4</th>\n",
       "      <td>5.0</td>\n",
       "      <td>3.6</td>\n",
       "      <td>1.4</td>\n",
       "      <td>0.2</td>\n",
       "    </tr>\n",
       "  </tbody>\n",
       "</table>\n",
       "</div>"
      ],
      "text/plain": [
       "   sepal length (cm)  sepal width (cm)  petal length (cm)  petal width (cm)\n",
       "0                5.1               3.5                1.4               0.2\n",
       "1                4.9               3.0                1.4               0.2\n",
       "2                4.7               3.2                1.3               0.2\n",
       "3                4.6               3.1                1.5               0.2\n",
       "4                5.0               3.6                1.4               0.2"
      ]
     },
     "execution_count": 4,
     "metadata": {},
     "output_type": "execute_result"
    }
   ],
   "source": [
    "df.head()"
   ]
  },
  {
   "cell_type": "markdown",
   "metadata": {},
   "source": [
    "b. Display basic information about the dataset (e.g., number of samples, features, target\n",
    "classes)."
   ]
  },
  {
   "cell_type": "code",
   "execution_count": 5,
   "metadata": {},
   "outputs": [
    {
     "data": {
      "text/plain": [
       "Index(['sepal length (cm)', 'sepal width (cm)', 'petal length (cm)',\n",
       "       'petal width (cm)'],\n",
       "      dtype='object')"
      ]
     },
     "execution_count": 5,
     "metadata": {},
     "output_type": "execute_result"
    }
   ],
   "source": [
    "df.columns"
   ]
  },
  {
   "cell_type": "code",
   "execution_count": 6,
   "metadata": {},
   "outputs": [
    {
     "data": {
      "text/plain": [
       "array([0, 0, 0, 0, 0, 0, 0, 0, 0, 0, 0, 0, 0, 0, 0, 0, 0, 0, 0, 0, 0, 0,\n",
       "       0, 0, 0, 0, 0, 0, 0, 0, 0, 0, 0, 0, 0, 0, 0, 0, 0, 0, 0, 0, 0, 0,\n",
       "       0, 0, 0, 0, 0, 0, 1, 1, 1, 1, 1, 1, 1, 1, 1, 1, 1, 1, 1, 1, 1, 1,\n",
       "       1, 1, 1, 1, 1, 1, 1, 1, 1, 1, 1, 1, 1, 1, 1, 1, 1, 1, 1, 1, 1, 1,\n",
       "       1, 1, 1, 1, 1, 1, 1, 1, 1, 1, 1, 1, 2, 2, 2, 2, 2, 2, 2, 2, 2, 2,\n",
       "       2, 2, 2, 2, 2, 2, 2, 2, 2, 2, 2, 2, 2, 2, 2, 2, 2, 2, 2, 2, 2, 2,\n",
       "       2, 2, 2, 2, 2, 2, 2, 2, 2, 2, 2, 2, 2, 2, 2, 2, 2, 2])"
      ]
     },
     "execution_count": 6,
     "metadata": {},
     "output_type": "execute_result"
    }
   ],
   "source": [
    "target = iris.target\n",
    "target"
   ]
  },
  {
   "cell_type": "code",
   "execution_count": 7,
   "metadata": {
    "scrolled": true
   },
   "outputs": [
    {
     "name": "stdout",
     "output_type": "stream",
     "text": [
      "<class 'pandas.core.frame.DataFrame'>\n",
      "RangeIndex: 150 entries, 0 to 149\n",
      "Data columns (total 4 columns):\n",
      " #   Column             Non-Null Count  Dtype  \n",
      "---  ------             --------------  -----  \n",
      " 0   sepal length (cm)  150 non-null    float64\n",
      " 1   sepal width (cm)   150 non-null    float64\n",
      " 2   petal length (cm)  150 non-null    float64\n",
      " 3   petal width (cm)   150 non-null    float64\n",
      "dtypes: float64(4)\n",
      "memory usage: 4.8 KB\n"
     ]
    }
   ],
   "source": [
    "df.info()"
   ]
  },
  {
   "cell_type": "code",
   "execution_count": 8,
   "metadata": {},
   "outputs": [
    {
     "data": {
      "text/html": [
       "<div>\n",
       "<style scoped>\n",
       "    .dataframe tbody tr th:only-of-type {\n",
       "        vertical-align: middle;\n",
       "    }\n",
       "\n",
       "    .dataframe tbody tr th {\n",
       "        vertical-align: top;\n",
       "    }\n",
       "\n",
       "    .dataframe thead th {\n",
       "        text-align: right;\n",
       "    }\n",
       "</style>\n",
       "<table border=\"1\" class=\"dataframe\">\n",
       "  <thead>\n",
       "    <tr style=\"text-align: right;\">\n",
       "      <th></th>\n",
       "      <th>sepal length (cm)</th>\n",
       "      <th>sepal width (cm)</th>\n",
       "      <th>petal length (cm)</th>\n",
       "      <th>petal width (cm)</th>\n",
       "    </tr>\n",
       "  </thead>\n",
       "  <tbody>\n",
       "    <tr>\n",
       "      <th>count</th>\n",
       "      <td>150.000000</td>\n",
       "      <td>150.000000</td>\n",
       "      <td>150.000000</td>\n",
       "      <td>150.000000</td>\n",
       "    </tr>\n",
       "    <tr>\n",
       "      <th>mean</th>\n",
       "      <td>5.843333</td>\n",
       "      <td>3.057333</td>\n",
       "      <td>3.758000</td>\n",
       "      <td>1.199333</td>\n",
       "    </tr>\n",
       "    <tr>\n",
       "      <th>std</th>\n",
       "      <td>0.828066</td>\n",
       "      <td>0.435866</td>\n",
       "      <td>1.765298</td>\n",
       "      <td>0.762238</td>\n",
       "    </tr>\n",
       "    <tr>\n",
       "      <th>min</th>\n",
       "      <td>4.300000</td>\n",
       "      <td>2.000000</td>\n",
       "      <td>1.000000</td>\n",
       "      <td>0.100000</td>\n",
       "    </tr>\n",
       "    <tr>\n",
       "      <th>25%</th>\n",
       "      <td>5.100000</td>\n",
       "      <td>2.800000</td>\n",
       "      <td>1.600000</td>\n",
       "      <td>0.300000</td>\n",
       "    </tr>\n",
       "    <tr>\n",
       "      <th>50%</th>\n",
       "      <td>5.800000</td>\n",
       "      <td>3.000000</td>\n",
       "      <td>4.350000</td>\n",
       "      <td>1.300000</td>\n",
       "    </tr>\n",
       "    <tr>\n",
       "      <th>75%</th>\n",
       "      <td>6.400000</td>\n",
       "      <td>3.300000</td>\n",
       "      <td>5.100000</td>\n",
       "      <td>1.800000</td>\n",
       "    </tr>\n",
       "    <tr>\n",
       "      <th>max</th>\n",
       "      <td>7.900000</td>\n",
       "      <td>4.400000</td>\n",
       "      <td>6.900000</td>\n",
       "      <td>2.500000</td>\n",
       "    </tr>\n",
       "  </tbody>\n",
       "</table>\n",
       "</div>"
      ],
      "text/plain": [
       "       sepal length (cm)  sepal width (cm)  petal length (cm)  \\\n",
       "count         150.000000        150.000000         150.000000   \n",
       "mean            5.843333          3.057333           3.758000   \n",
       "std             0.828066          0.435866           1.765298   \n",
       "min             4.300000          2.000000           1.000000   \n",
       "25%             5.100000          2.800000           1.600000   \n",
       "50%             5.800000          3.000000           4.350000   \n",
       "75%             6.400000          3.300000           5.100000   \n",
       "max             7.900000          4.400000           6.900000   \n",
       "\n",
       "       petal width (cm)  \n",
       "count        150.000000  \n",
       "mean           1.199333  \n",
       "std            0.762238  \n",
       "min            0.100000  \n",
       "25%            0.300000  \n",
       "50%            1.300000  \n",
       "75%            1.800000  \n",
       "max            2.500000  "
      ]
     },
     "execution_count": 8,
     "metadata": {},
     "output_type": "execute_result"
    }
   ],
   "source": [
    "df.describe()"
   ]
  },
  {
   "cell_type": "markdown",
   "metadata": {},
   "source": [
    "2. Data Preprocessing: (assignment 2 code can be used) (1 point)\n",
    "\n",
    "c. Check for missing values and handle them if necessary (not typically needed for the Iris\n",
    "dataset)."
   ]
  },
  {
   "cell_type": "code",
   "execution_count": 9,
   "metadata": {},
   "outputs": [
    {
     "data": {
      "text/plain": [
       "sepal length (cm)    0\n",
       "sepal width (cm)     0\n",
       "petal length (cm)    0\n",
       "petal width (cm)     0\n",
       "dtype: int64"
      ]
     },
     "execution_count": 9,
     "metadata": {},
     "output_type": "execute_result"
    }
   ],
   "source": [
    "df.isnull().sum()"
   ]
  },
  {
   "cell_type": "markdown",
   "metadata": {},
   "source": [
    "d. Scale or normalize the features for better clustering performance."
   ]
  },
  {
   "cell_type": "code",
   "execution_count": 10,
   "metadata": {},
   "outputs": [],
   "source": [
    "from sklearn.preprocessing import StandardScaler\n",
    "scale = StandardScaler()"
   ]
  },
  {
   "cell_type": "code",
   "execution_count": 11,
   "metadata": {},
   "outputs": [
    {
     "data": {
      "text/html": [
       "<div>\n",
       "<style scoped>\n",
       "    .dataframe tbody tr th:only-of-type {\n",
       "        vertical-align: middle;\n",
       "    }\n",
       "\n",
       "    .dataframe tbody tr th {\n",
       "        vertical-align: top;\n",
       "    }\n",
       "\n",
       "    .dataframe thead th {\n",
       "        text-align: right;\n",
       "    }\n",
       "</style>\n",
       "<table border=\"1\" class=\"dataframe\">\n",
       "  <thead>\n",
       "    <tr style=\"text-align: right;\">\n",
       "      <th></th>\n",
       "      <th>sepal length (cm)</th>\n",
       "      <th>sepal width (cm)</th>\n",
       "      <th>petal length (cm)</th>\n",
       "      <th>petal width (cm)</th>\n",
       "    </tr>\n",
       "  </thead>\n",
       "  <tbody>\n",
       "    <tr>\n",
       "      <th>0</th>\n",
       "      <td>-0.900681</td>\n",
       "      <td>1.019004</td>\n",
       "      <td>-1.340227</td>\n",
       "      <td>-1.315444</td>\n",
       "    </tr>\n",
       "    <tr>\n",
       "      <th>1</th>\n",
       "      <td>-1.143017</td>\n",
       "      <td>-0.131979</td>\n",
       "      <td>-1.340227</td>\n",
       "      <td>-1.315444</td>\n",
       "    </tr>\n",
       "    <tr>\n",
       "      <th>2</th>\n",
       "      <td>-1.385353</td>\n",
       "      <td>0.328414</td>\n",
       "      <td>-1.397064</td>\n",
       "      <td>-1.315444</td>\n",
       "    </tr>\n",
       "    <tr>\n",
       "      <th>3</th>\n",
       "      <td>-1.506521</td>\n",
       "      <td>0.098217</td>\n",
       "      <td>-1.283389</td>\n",
       "      <td>-1.315444</td>\n",
       "    </tr>\n",
       "    <tr>\n",
       "      <th>4</th>\n",
       "      <td>-1.021849</td>\n",
       "      <td>1.249201</td>\n",
       "      <td>-1.340227</td>\n",
       "      <td>-1.315444</td>\n",
       "    </tr>\n",
       "  </tbody>\n",
       "</table>\n",
       "</div>"
      ],
      "text/plain": [
       "   sepal length (cm)  sepal width (cm)  petal length (cm)  petal width (cm)\n",
       "0          -0.900681          1.019004          -1.340227         -1.315444\n",
       "1          -1.143017         -0.131979          -1.340227         -1.315444\n",
       "2          -1.385353          0.328414          -1.397064         -1.315444\n",
       "3          -1.506521          0.098217          -1.283389         -1.315444\n",
       "4          -1.021849          1.249201          -1.340227         -1.315444"
      ]
     },
     "execution_count": 11,
     "metadata": {},
     "output_type": "execute_result"
    }
   ],
   "source": [
    "df_scaled = scale.fit_transform(df)\n",
    "df_scaled = pd.DataFrame(data=df_scaled, columns=df.columns)\n",
    "df_scaled.head()"
   ]
  },
  {
   "cell_type": "markdown",
   "metadata": {},
   "source": [
    "3. Clustering Algorithms: (18 points for report))\n",
    "\n",
    "In the report explain the assumptions, advantages and disadvantages of each algorithm.\n",
    "\n",
    "e. Clustering algorithms to apply:\n",
    "i. K-means clustering\n",
    "ii. Hierarchical clustering (Agglomerative clustering) – self-learn\n",
    "iii. DBSCAN (Density-Based Spatial Clustering of Applications with Noise) – self-\n",
    "learn"
   ]
  },
  {
   "cell_type": "markdown",
   "metadata": {},
   "source": [
    "#### Clustering Algorithms:\n",
    "\n",
    "In the report explain the assumptions, advantages and disadvantages of each algorithm.\n",
    "\n",
    "e. Clustering algorithms to apply:\n",
    "i. K-means clustering\n",
    "\n",
    "Ans:\n",
    "KMEANS\n",
    "\n",
    "Assumptions:\n",
    "-Spherical Shape: K-means assumes that clusters are spherical in shape due to its calculation of distances from centroids. This assumption limits its ability to effectively cluster datasets with non-spherical or irregularly shaped clusters.\n",
    "-Equal Variance within Clusters: K-means assumes that features within a cluster have equal variance, which may not hold true for all datasets. This assumption can lead to suboptimal clustering results when dealing with clusters of varying sizes or densities.\n",
    "-Linear Separability: K-means operates under the assumption of linear boundaries between clusters, which may not accurately capture complex or non-linear cluster structures. As a result, it may struggle to effectively cluster datasets with intricate geometrical shapes.\n",
    "\n",
    "Advantages:\n",
    "-Simplicity and ease of use: The straightforward concept of partitioning data into clusters based on similarity makes K-means easy to understand and implement, especially for newcomers to machine learning.\n",
    "-Efficiency and speed: K-means is computationally efficient, handling large datasets quickly and effectively, making it suitable for real-time or near-real-time applications.\n",
    "-Scalability: K-means scales well with increasing data points, making it applicable to datasets of varying sizes, from small to large, without sacrificing performance.\n",
    "-Unsupervised Learning: Operating under the unsupervised learning paradigm, K-means autonomously discovers patterns within data, enabling exploratory data analysis and uncovering hidden insights without the need for labeled data.\n",
    "\n",
    "Disadvantages:\n",
    "-Subjectivity and Sensitivity to Initial Conditions: K-means clustering results can vary based on analysts' choices of algorithms and initial seed placements, leading to subjective interpretations and lack of reproducibility, hindering robust comparisons between different solutions.\n",
    "-Assumption of Equal-sized Clusters and Spherical Shapes: K-means assumes clusters are of equal sizes and spherical, limiting its effectiveness when dealing with clusters of varying sizes or non-spherical shapes, potentially resulting in suboptimal clustering outcomes.\n",
    "Dependence on Number of Clusters: The performance of K-means heavily relies on selecting the correct number of clusters ('k'), posing a challenge in determining an optimal value and risking the formation of clusters that may not capture meaningful patterns or insights from the data.\n",
    "Sensitivity to Outliers and Linearity Assumption: K-means is sensitive to outliers, which can distort the placement of cluster centroids, impacting the overall clustering quality. Additionally, it can lead to inadequate clustering performance on such datasets.\n",
    "\n",
    "ii. Hierarchical clustering (Agglomerative clustering) \n",
    "Assumptions:\n",
    "-Individual Data Points as Singleton Clusters: Agglomerative clustering assumes that each data point initially forms its own singleton cluster. This establishes the starting point for the clustering process, treating each data point as a separate entity before merging them into larger clusters.\n",
    "-Pairwise Similarity or Distance: Agglomerative clustering assumes that pairwise similarities or distances between data points are well-defined and can be computed. This enables the algorithm to measure the proximity between clusters and determine which clusters to merge at each step.\n",
    "-Connectivity Among Data Points: Agglomerative clustering assumes that there is some meaningful notion of connectivity or similarity between all pairs of data points in the dataset. This allows the algorithm to determine the proximity between clusters and decide which clusters to merge at each stage of the clustering process.\n",
    "\n",
    "Advantages:\n",
    "-Flexibility in Dissimilarity Measures: Agglomerative clustering allows for the use of various dissimilarity measures tailored to the specific characteristics of the data, offering flexibility in capturing relevant relationships between objects.\n",
    "-Hierarchical Representation (Dendrogram): The algorithm produces a dendrogram illustrating the progressive grouping of data, aiding in the visualization of clustering structures and facilitating the determination of an appropriate number of clusters.\n",
    "-Automatic Recovery from Failure: Agglomerative clustering offers automatic recovery from failures without requiring user intervention, enhancing its robustness and reliability in handling data processing errors or interruptions.\n",
    "-Informative Ordering of Objects: Agglomerative clustering can generate an ordering of objects based on their clustering relationships, providing valuable insights for data visualization and interpretation, especially when exploring relationships between variables or observations.\n",
    "\n",
    "Disadvantages:\n",
    "-Sensitivity to Noise and Outliers: Agglomerative clustering is sensitive to noise and outliers, leading to potential misgrouping of data points and affecting the overall clustering quality.\n",
    "-High Time and Space Complexity: The algorithm exhibits high time and space complexity, making it unsuitable for large datasets due to increased computational requirements and memory usage.\n",
    "-Inability to Undo Previous Merging: Agglomerative clustering does not allow for undoing previous merging decisions, which can lead to suboptimal clustering outcomes if objects are incorrectly grouped at earlier stages, as corrections cannot be made later in the process.\n",
    "-Limited Scalability and Efficiency: Agglomerative clustering's time complexity is at least O(n^2logn), which can become prohibitive for large datasets, impacting its scalability and efficiency in practical applications.\n",
    "\n",
    "iii. DBSCAN\n",
    "Assumptions:\n",
    "-Density-based Clusters: DBSCAN assumes that clusters are dense regions in space, separated by regions of lower density. It identifies clusters by grouping densely packed data points together.\n",
    "-Local Density Estimation: DBSCAN operates by examining the local density of data points, rather than relying on a predefined global density threshold. It identifies clusters based on regions of high data point density.\n",
    "-Robustness to Outliers: DBSCAN is robust to outliers, as it can effectively distinguish noise points from dense clusters and exclude them from cluster formation. Outliers do not significantly affect the clustering process.\n",
    "-No Predefined Number of Clusters: Unlike some clustering algorithms (e.g., K-Means), DBSCAN does not require the number of clusters to be specified beforehand. It autonomously detects and forms clusters based on the data's density distribution, allowing for more flexible and adaptive clustering\n",
    "\n",
    "Advantages:\n",
    "-Arbitrarily Shaped Clusters: DBSCAN can discover clusters of arbitrary shapes, unlike some other clustering algorithms that assume linear boundaries between clusters.\n",
    "-Identification of Enclosed Clusters: It can find clusters that are completely surrounded by different clusters, allowing for the detection of both dense and sparse regions in the data.\n",
    "-Robust Outlier Detection: DBSCAN is robust towards outlier detection, effectively distinguishing noise points from meaningful clusters and excluding them from cluster formation.\n",
    "-Insensitive to Data Ordering: DBSCAN requires only two points to define a cluster, and it is highly insensitive to the ordering of points in the database, providing consistent results regardless of data arrangement.\n",
    "\n",
    "Disadvantages:\n",
    "-Non-Partitionable for Multiprocessor Systems: DBSCAN is not easily partitionable for multiprocessor systems, limiting its scalability and parallelization capabilities.\n",
    "-Challenges with Varying Densities: Datasets with altering densities can pose challenges for DBSCAN, potentially leading to difficulties in accurately identifying clusters across regions of varying data density.\n",
    "-Sensitive to Parameters: DBSCAN's performance is sensitive to clustering parameters such as minPoints and EPS (epsilon), requiring careful tuning for optimal results, which can be a non-trivial task.\n",
    "-Failure in Sparse Datasets: DBSCAN may fail to identify meaningful clusters when the dataset is too sparse or when the density varies significantly across the dataset, potentially leading to suboptimal clustering outcomes."
   ]
  },
  {
   "cell_type": "markdown",
   "metadata": {},
   "source": [
    "**Clustering Experimentation**"
   ]
  },
  {
   "cell_type": "markdown",
   "metadata": {},
   "source": [
    "f. Apply each clustering algorithm to the preprocessed dataset.\n"
   ]
  },
  {
   "cell_type": "markdown",
   "metadata": {},
   "source": [
    "*KMeans Clustering*"
   ]
  },
  {
   "cell_type": "code",
   "execution_count": 12,
   "metadata": {},
   "outputs": [
    {
     "name": "stdout",
     "output_type": "stream",
     "text": [
      "Cluster Centers:\n",
      " [[-1.01457897  0.85326268 -1.30498732 -1.25489349]\n",
      " [ 1.13597027  0.08842168  0.99615451  1.01752612]\n",
      " [-0.05021989 -0.88337647  0.34773781  0.2815273 ]]\n",
      "\n",
      "Inertia: 139.82049635974974\n"
     ]
    }
   ],
   "source": [
    "from sklearn.cluster import KMeans\n",
    "\n",
    "km = KMeans(n_clusters = 3, random_state = 42)\n",
    "km.fit_predict(df_scaled)\n",
    "\n",
    "print(\"Cluster Centers:\\n\",km.cluster_centers_)\n",
    "print()\n",
    "print(\"Inertia:\",km.inertia_)"
   ]
  },
  {
   "cell_type": "markdown",
   "metadata": {},
   "source": [
    "*Hierarchical Clustering (Agglomerative)*"
   ]
  },
  {
   "cell_type": "code",
   "execution_count": 13,
   "metadata": {},
   "outputs": [
    {
     "data": {
      "text/plain": [
       "array([1, 1, 1, 1, 1, 1, 1, 1, 1, 1, 1, 1, 1, 1, 1, 1, 1, 1, 1, 1, 1, 1,\n",
       "       1, 1, 1, 1, 1, 1, 1, 1, 1, 1, 1, 1, 1, 1, 1, 1, 1, 1, 1, 2, 1, 1,\n",
       "       1, 1, 1, 1, 1, 1, 0, 0, 0, 2, 0, 2, 0, 2, 0, 2, 2, 0, 2, 0, 2, 0,\n",
       "       2, 2, 2, 2, 0, 0, 0, 0, 0, 0, 0, 0, 0, 2, 2, 2, 2, 0, 2, 0, 0, 2,\n",
       "       2, 2, 2, 0, 2, 2, 2, 2, 2, 0, 2, 2, 0, 0, 0, 0, 0, 0, 2, 0, 0, 0,\n",
       "       0, 0, 0, 0, 0, 0, 0, 0, 0, 2, 0, 0, 0, 0, 0, 0, 0, 0, 0, 0, 0, 0,\n",
       "       0, 0, 0, 0, 0, 0, 0, 0, 0, 0, 0, 0, 0, 0, 0, 0, 0, 0], dtype=int64)"
      ]
     },
     "execution_count": 13,
     "metadata": {},
     "output_type": "execute_result"
    }
   ],
   "source": [
    "from sklearn.cluster import AgglomerativeClustering\n",
    "\n",
    "hc = AgglomerativeClustering(n_clusters = 3, affinity = 'euclidean', linkage = 'ward')\n",
    "hc.fit_predict(df_scaled)"
   ]
  },
  {
   "cell_type": "markdown",
   "metadata": {},
   "source": [
    "*DBSCAN*"
   ]
  },
  {
   "cell_type": "code",
   "execution_count": 14,
   "metadata": {},
   "outputs": [
    {
     "data": {
      "text/plain": [
       "array([ 0,  0,  0,  0,  0,  0,  0,  0,  0,  0,  0,  0,  0,  0, -1, -1,  0,\n",
       "        0,  0,  0,  0,  0,  0,  0,  0,  0,  0,  0,  0,  0,  0,  0, -1, -1,\n",
       "        0,  0,  0,  0,  0,  0,  0, -1,  0,  0,  0,  0,  0,  0,  0,  0,  1,\n",
       "        1,  1,  1,  1,  1,  1,  2,  1, -1, -1,  1, -1,  1,  1,  1,  1,  1,\n",
       "        3,  1,  1,  1, -1,  1,  1,  1,  1,  1,  1,  1,  1,  1,  1,  1,  1,\n",
       "        1,  1,  3,  1,  1,  1,  1,  1,  2,  1,  1,  1,  1,  2,  1,  6,  1,\n",
       "        1,  1,  1,  4, -1,  5, -1, -1,  1,  1,  1,  1, -1,  1,  1, -1, -1,\n",
       "        3,  1,  1,  4,  1,  1, -1,  1,  1,  1,  5,  5, -1,  1,  1,  1,  4,\n",
       "        6,  1,  1,  1,  1,  1,  1,  1,  1,  1,  1,  1,  6,  1],\n",
       "      dtype=int64)"
      ]
     },
     "execution_count": 14,
     "metadata": {},
     "output_type": "execute_result"
    }
   ],
   "source": [
    "from sklearn.cluster import DBSCAN\n",
    "\n",
    "db = DBSCAN(eps=0.5, min_samples=3 )\n",
    "db.fit_predict(df_scaled)"
   ]
  },
  {
   "cell_type": "markdown",
   "metadata": {},
   "source": [
    "g. Explore different parameter settings (e.g., number of clusters for K-means, linkage\n",
    "method for hierarchical clustering, epsilon and min_samples for DBSCAN). Write your\n",
    "observations in report"
   ]
  },
  {
   "cell_type": "markdown",
   "metadata": {},
   "source": [
    "*K-Means*"
   ]
  },
  {
   "cell_type": "code",
   "execution_count": 15,
   "metadata": {},
   "outputs": [],
   "source": [
    "wcss = []\n",
    "for i in range(1,21):\n",
    "    km = KMeans(n_clusters = i)\n",
    "    km.fit_predict(df_scaled)\n",
    "    wcss.append(km.inertia_)"
   ]
  },
  {
   "cell_type": "code",
   "execution_count": 16,
   "metadata": {},
   "outputs": [
    {
     "data": {
      "text/plain": [
       "[600.0,\n",
       " 222.36170496502302,\n",
       " 139.82049635974974,\n",
       " 114.09223843568276,\n",
       " 91.04766991109526,\n",
       " 80.0224959955744,\n",
       " 70.69664814695253,\n",
       " 62.67393724224462,\n",
       " 54.897364296424065,\n",
       " 47.48731728717788,\n",
       " 43.75989690811717,\n",
       " 39.41816421730917,\n",
       " 36.732331536575025,\n",
       " 34.64636735304852,\n",
       " 32.21041343185213,\n",
       " 30.709209174235088,\n",
       " 28.866782867119696,\n",
       " 28.081231743425192,\n",
       " 25.8346819162408,\n",
       " 24.63864138412234]"
      ]
     },
     "execution_count": 16,
     "metadata": {},
     "output_type": "execute_result"
    }
   ],
   "source": [
    "wcss"
   ]
  },
  {
   "cell_type": "code",
   "execution_count": 17,
   "metadata": {},
   "outputs": [],
   "source": [
    "K = [i for i in range(1,21)]"
   ]
  },
  {
   "cell_type": "code",
   "execution_count": 18,
   "metadata": {
    "scrolled": true
   },
   "outputs": [
    {
     "data": {
      "text/html": [
       "<div>\n",
       "<style scoped>\n",
       "    .dataframe tbody tr th:only-of-type {\n",
       "        vertical-align: middle;\n",
       "    }\n",
       "\n",
       "    .dataframe tbody tr th {\n",
       "        vertical-align: top;\n",
       "    }\n",
       "\n",
       "    .dataframe thead th {\n",
       "        text-align: right;\n",
       "    }\n",
       "</style>\n",
       "<table border=\"1\" class=\"dataframe\">\n",
       "  <thead>\n",
       "    <tr style=\"text-align: right;\">\n",
       "      <th></th>\n",
       "      <th>K</th>\n",
       "      <th>WCSS</th>\n",
       "    </tr>\n",
       "  </thead>\n",
       "  <tbody>\n",
       "    <tr>\n",
       "      <th>0</th>\n",
       "      <td>1</td>\n",
       "      <td>600.000000</td>\n",
       "    </tr>\n",
       "    <tr>\n",
       "      <th>1</th>\n",
       "      <td>2</td>\n",
       "      <td>222.361705</td>\n",
       "    </tr>\n",
       "    <tr>\n",
       "      <th>2</th>\n",
       "      <td>3</td>\n",
       "      <td>139.820496</td>\n",
       "    </tr>\n",
       "    <tr>\n",
       "      <th>3</th>\n",
       "      <td>4</td>\n",
       "      <td>114.092238</td>\n",
       "    </tr>\n",
       "    <tr>\n",
       "      <th>4</th>\n",
       "      <td>5</td>\n",
       "      <td>91.047670</td>\n",
       "    </tr>\n",
       "    <tr>\n",
       "      <th>5</th>\n",
       "      <td>6</td>\n",
       "      <td>80.022496</td>\n",
       "    </tr>\n",
       "    <tr>\n",
       "      <th>6</th>\n",
       "      <td>7</td>\n",
       "      <td>70.696648</td>\n",
       "    </tr>\n",
       "    <tr>\n",
       "      <th>7</th>\n",
       "      <td>8</td>\n",
       "      <td>62.673937</td>\n",
       "    </tr>\n",
       "    <tr>\n",
       "      <th>8</th>\n",
       "      <td>9</td>\n",
       "      <td>54.897364</td>\n",
       "    </tr>\n",
       "    <tr>\n",
       "      <th>9</th>\n",
       "      <td>10</td>\n",
       "      <td>47.487317</td>\n",
       "    </tr>\n",
       "    <tr>\n",
       "      <th>10</th>\n",
       "      <td>11</td>\n",
       "      <td>43.759897</td>\n",
       "    </tr>\n",
       "    <tr>\n",
       "      <th>11</th>\n",
       "      <td>12</td>\n",
       "      <td>39.418164</td>\n",
       "    </tr>\n",
       "    <tr>\n",
       "      <th>12</th>\n",
       "      <td>13</td>\n",
       "      <td>36.732332</td>\n",
       "    </tr>\n",
       "    <tr>\n",
       "      <th>13</th>\n",
       "      <td>14</td>\n",
       "      <td>34.646367</td>\n",
       "    </tr>\n",
       "    <tr>\n",
       "      <th>14</th>\n",
       "      <td>15</td>\n",
       "      <td>32.210413</td>\n",
       "    </tr>\n",
       "    <tr>\n",
       "      <th>15</th>\n",
       "      <td>16</td>\n",
       "      <td>30.709209</td>\n",
       "    </tr>\n",
       "    <tr>\n",
       "      <th>16</th>\n",
       "      <td>17</td>\n",
       "      <td>28.866783</td>\n",
       "    </tr>\n",
       "    <tr>\n",
       "      <th>17</th>\n",
       "      <td>18</td>\n",
       "      <td>28.081232</td>\n",
       "    </tr>\n",
       "    <tr>\n",
       "      <th>18</th>\n",
       "      <td>19</td>\n",
       "      <td>25.834682</td>\n",
       "    </tr>\n",
       "    <tr>\n",
       "      <th>19</th>\n",
       "      <td>20</td>\n",
       "      <td>24.638641</td>\n",
       "    </tr>\n",
       "  </tbody>\n",
       "</table>\n",
       "</div>"
      ],
      "text/plain": [
       "     K        WCSS\n",
       "0    1  600.000000\n",
       "1    2  222.361705\n",
       "2    3  139.820496\n",
       "3    4  114.092238\n",
       "4    5   91.047670\n",
       "5    6   80.022496\n",
       "6    7   70.696648\n",
       "7    8   62.673937\n",
       "8    9   54.897364\n",
       "9   10   47.487317\n",
       "10  11   43.759897\n",
       "11  12   39.418164\n",
       "12  13   36.732332\n",
       "13  14   34.646367\n",
       "14  15   32.210413\n",
       "15  16   30.709209\n",
       "16  17   28.866783\n",
       "17  18   28.081232\n",
       "18  19   25.834682\n",
       "19  20   24.638641"
      ]
     },
     "execution_count": 18,
     "metadata": {},
     "output_type": "execute_result"
    }
   ],
   "source": [
    "a = {'K': pd.Series(K), 'WCSS': pd.Series(wcss)}\n",
    "pd.DataFrame(a)"
   ]
  },
  {
   "cell_type": "markdown",
   "metadata": {},
   "source": [
    "From the table, it is evident that, as 'K' increases from 1 to 20, the WCSS decreases, indicating that the data points are closer to their respective cluster centroids. There's a substantial decrease in WCSS when moving from 1 to 2 and then to 3. After K=3, the reductions in WCSS are smaller and more gradual. This suggests that the best K for this dataset might be 3, as the elbow of the curve appears to be at the transition from K=2 to K=3. Choosing K=3 would likely provide a good balance between minimizing WCSS and maintaining a simpler model without overfitting by creating too many clusters."
   ]
  },
  {
   "cell_type": "markdown",
   "metadata": {},
   "source": [
    "*Hierarchical Clustering*"
   ]
  },
  {
   "cell_type": "code",
   "execution_count": 19,
   "metadata": {},
   "outputs": [],
   "source": [
    "from sklearn.metrics import silhouette_score"
   ]
  },
  {
   "cell_type": "code",
   "execution_count": 20,
   "metadata": {},
   "outputs": [
    {
     "name": "stdout",
     "output_type": "stream",
     "text": [
      "linkage = single\n",
      "Silhouette Score:0.504645610832545\n",
      "\n",
      "linkage = average\n",
      "Silhouette Score:0.4802669329728697\n",
      "\n",
      "linkage = complete\n",
      "Silhouette Score:0.44961848359884726\n",
      "\n",
      "linkage = ward\n",
      "Silhouette Score:0.4466890410285909\n",
      "\n"
     ]
    }
   ],
   "source": [
    "linkage = [\"single\", \"average\", \"complete\", \"ward\"]\n",
    "\n",
    "for i in linkage:\n",
    "    hc = AgglomerativeClustering(n_clusters = 3, affinity = 'euclidean', linkage = i)\n",
    "    hc_labels = hc.fit_predict(df_scaled)\n",
    "    \n",
    "    silhouette_hc = silhouette_score(df_scaled, hc_labels)\n",
    "    print(f\"linkage = {i}\\nSilhouette Score:{silhouette_hc}\")\n",
    "    print()\n",
    "    \n",
    "    "
   ]
  },
  {
   "cell_type": "markdown",
   "metadata": {},
   "source": [
    "The silhouette scores for hierarchical clustering with different linkage methods indicate that the 'single' linkage method achieved the highest score of 0.505, followed by 'average' with 0.480, 'complete' with 0.450, and 'ward' with 0.447. **Hierarchical clustering with single linkage is perfroming better from the above scores**"
   ]
  },
  {
   "cell_type": "markdown",
   "metadata": {},
   "source": []
  },
  {
   "cell_type": "markdown",
   "metadata": {},
   "source": [
    "*DBSCAN*"
   ]
  },
  {
   "cell_type": "code",
   "execution_count": 21,
   "metadata": {},
   "outputs": [
    {
     "name": "stdout",
     "output_type": "stream",
     "text": [
      "eps = 0.5\n",
      "Silhouette Score:0.15971036873870176\n",
      "\n",
      "eps = 0.4\n",
      "Silhouette Score:0.15125088552326663\n",
      "\n",
      "eps = 0.3\n",
      "Silhouette Score:-0.14729986910161358\n",
      "\n",
      "eps = 0.2\n",
      "Silhouette Score:0.08705841329683053\n",
      "\n"
     ]
    }
   ],
   "source": [
    "eps = [0.5, 0.4, 0.3, 0.2]\n",
    "\n",
    "for i in eps:\n",
    "    db = DBSCAN(eps=i, min_samples=3 )\n",
    "    db_labels = db.fit_predict(df_scaled)\n",
    "    \n",
    "    silhouette_db = silhouette_score(df_scaled, db_labels)\n",
    "    print(f\"eps = {i}\\nSilhouette Score:{silhouette_db}\")\n",
    "    print()\n",
    "    \n",
    "    "
   ]
  },
  {
   "cell_type": "markdown",
   "metadata": {},
   "source": [
    "The silhouette scores for DBSCAN clustering with different values of epsilon, for e=0.5 achieved the highest score of 0.160, followed by  e=0.4 with 0.151. However, for e=0.3, the silhouette score becomes negative (-0.147), indicating poor clustering quality. Lastly, e=0.2 yields a score of 0.087.**As the epsilon value is decreasing \"Silhouette Score\" is decreasing for this dataset**"
   ]
  },
  {
   "cell_type": "code",
   "execution_count": 22,
   "metadata": {},
   "outputs": [
    {
     "name": "stdout",
     "output_type": "stream",
     "text": [
      "min_samples = 6\n",
      "Silhouette Score:0.19586659299427786\n",
      "\n",
      "min_samples = 5\n",
      "Silhouette Score:0.35651648142700726\n",
      "\n",
      "min_samples = 4\n",
      "Silhouette Score:0.36457435678297523\n",
      "\n",
      "min_samples = 3\n",
      "Silhouette Score:0.15971036873870176\n",
      "\n",
      "min_samples = 2\n",
      "Silhouette Score:0.11500593389476217\n",
      "\n"
     ]
    }
   ],
   "source": [
    "min_samples = [6,5,4,3,2]\n",
    "\n",
    "for i in min_samples:\n",
    "    db = DBSCAN(eps=0.5, min_samples=i )\n",
    "    db_labels = db.fit_predict(df_scaled)\n",
    "    \n",
    "    silhouette_db = silhouette_score(df_scaled, db_labels)\n",
    "    print(f\"min_samples = {i}\\nSilhouette Score:{silhouette_db}\")\n",
    "    print()\n"
   ]
  },
  {
   "cell_type": "markdown",
   "metadata": {},
   "source": [
    "\n",
    "The silhouette scores for DBSCAN clustering with different values of min_samples indicate that setting min_samples = 4 achieved the highest score of 0.365, followed by min_samples = 5 with 0.357. However, for min_samples = 2, the score is the lowest at 0.115, suggesting poorer clustering quality.**With min_samples = 4, \"Silhouette Score\" is the highest**"
   ]
  },
  {
   "cell_type": "markdown",
   "metadata": {},
   "source": [
    "#### Evaluation: (10 + 10 points)\n",
    "\n",
    "h. Evaluate the quality of clustering using metrics like silhouette score (self-learn, you can\n",
    "also use inertia and Dunn index taught in class) and visual inspection:\n",
    "\n",
    "i. Silhouette score: a higher score indicates better-defined clusters."
   ]
  },
  {
   "cell_type": "markdown",
   "metadata": {},
   "source": [
    "*K-Means*"
   ]
  },
  {
   "cell_type": "markdown",
   "metadata": {},
   "source": [
    "- Plotting Elbow Graph to choose the optimal K value"
   ]
  },
  {
   "cell_type": "code",
   "execution_count": 23,
   "metadata": {},
   "outputs": [
    {
     "data": {
      "text/plain": [
       "<matplotlib.collections.PathCollection at 0x2167ff4eb50>"
      ]
     },
     "execution_count": 23,
     "metadata": {},
     "output_type": "execute_result"
    },
    {
     "data": {
      "image/png": "[encoded data removed]",
      "text/plain": [
       "<Figure size 432x288 with 1 Axes>"
      ]
     },
     "metadata": {
      "needs_background": "light"
     },
     "output_type": "display_data"
    }
   ],
   "source": [
    "plt.plot(range(1,21), wcss)\n",
    "plt.xlabel(\"Number of clusters\")\n",
    "plt.ylabel(\"WCSS\")\n",
    "plt.title(\"Elbow Graph\")\n",
    "plt.grid(linestyle=\"--\", linewidth=\"1\", color=\"green\")\n",
    "plt.scatter(3, 139.820496, color='red', marker = 'o', s=100)"
   ]
  },
  {
   "cell_type": "markdown",
   "metadata": {},
   "source": [
    "Based on the elbow graph, the within-cluster sum of squares (WCSS) shows a sharp decrease initially as the number of clusters increases until around 3 clusters, after which the decrease becomes more gradual. This elbow point around k=3 suggests that the optimal number of clusters is 3, as adding more clusters beyond this point does not significantly reduce the WCSS or improve the clustering performance.Therefore, K =3 is a reasonal choice**"
   ]
  },
  {
   "cell_type": "markdown",
   "metadata": {},
   "source": [
    "*Hierarchical Clustering*"
   ]
  },
  {
   "cell_type": "code",
   "execution_count": 24,
   "metadata": {},
   "outputs": [],
   "source": [
    "ss_score_hc = []\n",
    "K_hc = [i for i in range(2,21)] \n",
    "\n",
    "for i in range(2,21):\n",
    "    hc = AgglomerativeClustering(n_clusters = i, affinity = 'euclidean', linkage = 'single')\n",
    "    hc_labels = hc.fit_predict(df_scaled)\n",
    "    \n",
    "    silhouette_hc = silhouette_score(df_scaled, hc_labels)\n",
    "    ss_score_hc.append(silhouette_hc)\n",
    "    "
   ]
  },
  {
   "cell_type": "code",
   "execution_count": 25,
   "metadata": {},
   "outputs": [
    {
     "data": {
      "image/png": "[encoded data removed]",
      "text/plain": [
       "<Figure size 432x288 with 1 Axes>"
      ]
     },
     "metadata": {
      "needs_background": "light"
     },
     "output_type": "display_data"
    }
   ],
   "source": [
    "plt.plot(K_hc, ss_score_hc)\n",
    "plt.xlabel(\"Number of clusters\")\n",
    "plt.ylabel(\"Sil. score\")\n",
    "plt.title(\"Silhouette Score vs K-value(Single Linkage)\")\n",
    "plt.grid(linestyle=\"--\", linewidth=\"1\", color=\"green\")"
   ]
  },
  {
   "cell_type": "markdown",
   "metadata": {},
   "source": [
    "The Silhouette Score analysis for single linkage clustering on the iris dataset suggests that the data is best clustered into 2 or 3 groups, as indicated by relatively high scores around 0.55 for these cluster counts. Beyond 3 clusters, the score decreases rapidly, indicating deteriorating clustering quality, with little improvement observed for higher numbers of clusters."
   ]
  },
  {
   "cell_type": "markdown",
   "metadata": {},
   "source": [
    "*DBSCAN*"
   ]
  },
  {
   "cell_type": "code",
   "execution_count": 26,
   "metadata": {},
   "outputs": [],
   "source": [
    "eps = [0.5, 0.4, 0.3, 0.2]\n",
    "ss_score_db = []\n",
    "\n",
    "\n",
    "for i in eps:\n",
    "    db = DBSCAN(eps=i, min_samples=3 )\n",
    "    db_labels = db.fit_predict(df_scaled)\n",
    "    \n",
    "    silhouette_db = silhouette_score(df_scaled, db_labels)\n",
    "    ss_score_db.append(silhouette_db)  "
   ]
  },
  {
   "cell_type": "code",
   "execution_count": 27,
   "metadata": {},
   "outputs": [
    {
     "data": {
      "text/plain": [
       "[0.15971036873870176,\n",
       " 0.15125088552326663,\n",
       " -0.14729986910161358,\n",
       " 0.08705841329683053]"
      ]
     },
     "execution_count": 27,
     "metadata": {},
     "output_type": "execute_result"
    }
   ],
   "source": [
    "ss_score_db"
   ]
  },
  {
   "cell_type": "markdown",
   "metadata": {},
   "source": [
    "The silhouette scores for DBSCAN clustering with different values of epsilon (eps) range from approximately 0.16 to -0.15, indicating varying clustering qualities. A higher silhouette score suggests better cluster separation, with eps = 0.5 yielding the highest score and eps = 0.3 resulting in a negative score, indicating poor clustering quality."
   ]
  },
  {
   "cell_type": "code",
   "execution_count": 28,
   "metadata": {},
   "outputs": [
    {
     "data": {
      "image/png": "[encoded data removed]",
      "text/plain": [
       "<Figure size 432x288 with 1 Axes>"
      ]
     },
     "metadata": {
      "needs_background": "light"
     },
     "output_type": "display_data"
    }
   ],
   "source": [
    "plt.plot(eps, ss_score_db)\n",
    "plt.xlabel(\"eps\")\n",
    "plt.ylabel(\"Sil. score\")\n",
    "plt.title(\"Silhouette Score vs epsilon)\")\n",
    "plt.grid(linestyle=\"--\", linewidth=\"1\", color=\"green\")"
   ]
  },
  {
   "cell_type": "markdown",
   "metadata": {},
   "source": [
    "The graph depicts the Silhouette Score against epsilon values (eps) for DBSCAN clustering on the iris dataset. It shows a trend where the score starts negatively for small eps, peaks around eps=0.35, indicating an optimal range for clustering quality, and declines thereafter as eps increases further."
   ]
  },
  {
   "cell_type": "markdown",
   "metadata": {},
   "source": [
    "j. Visualize clusters using scatter plots or other appropriate visualizations. Write\n",
    "observations along with visualization in report."
   ]
  },
  {
   "cell_type": "markdown",
   "metadata": {},
   "source": [
    "*K-Means*"
   ]
  },
  {
   "cell_type": "markdown",
   "metadata": {},
   "source": [
    "**Optimal K = 3**"
   ]
  },
  {
   "cell_type": "code",
   "execution_count": 29,
   "metadata": {},
   "outputs": [],
   "source": [
    "km = KMeans(n_clusters = 3, random_state = 42)\n",
    "km_labels = km.fit_predict(df_scaled)"
   ]
  },
  {
   "cell_type": "code",
   "execution_count": 30,
   "metadata": {},
   "outputs": [
    {
     "data": {
      "text/plain": [
       "<matplotlib.collections.PathCollection at 0x2160830ad90>"
      ]
     },
     "execution_count": 30,
     "metadata": {},
     "output_type": "execute_result"
    },
    {
     "data": {
      "image/png": "[encoded data removed]",
      "text/plain": [
       "<Figure size 576x432 with 1 Axes>"
      ]
     },
     "metadata": {
      "needs_background": "light"
     },
     "output_type": "display_data"
    }
   ],
   "source": [
    "plt.figure(figsize=(8, 6))\n",
    "plt.scatter(df_scaled[\"sepal length (cm)\"],df_scaled[\"sepal width (cm)\"], c=km_labels, cmap='rainbow', marker='o', s=100)"
   ]
  },
  {
   "cell_type": "markdown",
   "metadata": {},
   "source": [
    "The scatter plot illustrates the outcomes of a k-means clustering algorithm on a dataset, revealing three distinguishable clusters: the green cluster appears isolated in the upper-right, while the purple and red clusters exhibit notable overlap. Despite this overlap, points within each cluster demonstrate tight compactness. Overall, k-means successfully identifies inherent groupings within the dataset, although some clusters show closer affinity than others."
   ]
  },
  {
   "cell_type": "markdown",
   "metadata": {},
   "source": [
    "*Hierarchical Clustering*"
   ]
  },
  {
   "cell_type": "markdown",
   "metadata": {},
   "source": [
    "**optimal parameters**\n",
    "\n",
    "- linkage = \"single\""
   ]
  },
  {
   "cell_type": "code",
   "execution_count": 31,
   "metadata": {},
   "outputs": [
    {
     "data": {
      "text/plain": [
       "<matplotlib.collections.PathCollection at 0x2160833dc10>"
      ]
     },
     "execution_count": 31,
     "metadata": {},
     "output_type": "execute_result"
    },
    {
     "data": {
      "image/png": "[encoded data removed]",
      "text/plain": [
       "<Figure size 576x432 with 1 Axes>"
      ]
     },
     "metadata": {
      "needs_background": "light"
     },
     "output_type": "display_data"
    }
   ],
   "source": [
    "hc = AgglomerativeClustering(n_clusters = 3, affinity = 'euclidean', linkage = 'single')\n",
    "hc_labels = hc.fit_predict(df_scaled)\n",
    "\n",
    "\n",
    "plt.figure(figsize=(8, 6))\n",
    "plt.scatter(df_scaled[\"sepal length (cm)\"],df_scaled[\"sepal width (cm)\"], c=hc_labels, cmap='rainbow', marker='o', s=100)"
   ]
  },
  {
   "cell_type": "markdown",
   "metadata": {},
   "source": [
    "The scatter plot visualizes the outcomes of an agglomerative clustering algorithm on a dataset, showcasing two clear clusters: the densely-packed red cluster dominates the upper area, while the more dispersed purple cluster occupies the lower region, displaying some overlap. Despite this, both clusters exhibit tight intra-cluster cohesion, indicating effective grouping. The positioning and spread of the clusters hint at an inherent two-group structure within the dataset that the agglomerative algorithm successfully identifies."
   ]
  },
  {
   "cell_type": "markdown",
   "metadata": {},
   "source": [
    "*DBSCAN*"
   ]
  },
  {
   "cell_type": "markdown",
   "metadata": {},
   "source": [
    "**optimal parameters**\n",
    "- eps = 0.5\n",
    "- min_samples = 4"
   ]
  },
  {
   "cell_type": "code",
   "execution_count": 32,
   "metadata": {},
   "outputs": [
    {
     "data": {
      "text/plain": [
       "<matplotlib.collections.PathCollection at 0x216083b93d0>"
      ]
     },
     "execution_count": 32,
     "metadata": {},
     "output_type": "execute_result"
    },
    {
     "data": {
      "image/png": "[encoded data removed]",
      "text/plain": [
       "<Figure size 576x432 with 1 Axes>"
      ]
     },
     "metadata": {
      "needs_background": "light"
     },
     "output_type": "display_data"
    }
   ],
   "source": [
    "db = DBSCAN(eps=0.5, min_samples=4 )\n",
    "db_labels = db.fit_predict(df_scaled)\n",
    "\n",
    "plt.figure(figsize=(8, 6))\n",
    "plt.scatter(df_scaled[\"sepal length (cm)\"],df_scaled[\"sepal width (cm)\"], c=db_labels, cmap='rainbow', marker='o', s=100)"
   ]
  },
  {
   "cell_type": "markdown",
   "metadata": {},
   "source": [
    "The green, red, and purple clusters exhibit distinct densities and separations, indicating DBSCAN's effectiveness in identifying varying density-based structures within the dataset. Its ability to discern such clusters highlights its utility for complex spatial data analysis."
   ]
  },
  {
   "cell_type": "markdown",
   "metadata": {},
   "source": [
    "#### 6.Interpretation and Analysis: (10 + 10 points)\n",
    "k.Analyze the clustering results:\n",
    "l.Interpret the identified clusters and discuss their characteristics.\n",
    "\n",
    "\n",
    "The identified clusters vary in their characteristics and were determined using different clustering algorithms:\n",
    "\n",
    "K-Means Clustering: The green, red, and purple clusters are distinctly separated in the scatter plot. The green cluster is isolated in the upper-right region, indicating it represents a distinct group with unique features. The purple and red clusters exhibit overlap, suggesting similarity in their characteristics. However, points within each cluster demonstrate tight compactness, indicating cohesive grouping.\n",
    "Agglomerative Clustering: The red cluster is densely packed in the upper region, suggesting it represents a concentrated group with similar attributes. The purple cluster, although more spread out, also exhibits cohesion, albeit with some overlap with the red cluster. Both clusters demonstrate tight intra-cluster cohesion, indicative of effective grouping.\n",
    "DBSCAN Clustering: DBSCAN identifies clusters based on density, resulting in clusters of varying shapes and sizes. The green, red, and purple clusters exhibit distinct densities and separations, highlighting DBSCAN's effectiveness in capturing different density-based structures within the dataset. This approach enables the identification of clusters with varying levels of density, providing insights into the underlying data distribution.\n",
    "In summary, each clustering algorithm provides unique insights into the dataset, uncovering distinct groupings based on different criteria such as proximity, cohesion, and density. These identified clusters offer valuable information about the inherent structure of the data and can aid in understanding patterns, relationships, and anomalies within the dataset."
   ]
  },
  {
   "cell_type": "markdown",
   "metadata": {},
   "source": [
    "m..Compare and contrast the effectiveness of different clustering algorithms for this dataset. Write observations along with visualization in report.\n",
    "\n",
    "K-Means Clustering:\n",
    "K-Means clustering demonstrates effectiveness in identifying separate clusters within the dataset. The scatter plot visualization reveals three distinguishable clusters: a green cluster isolated in the upper-right region and purple and red clusters with notable overlap. Despite overlap, points within each cluster exhibit tight compactness, indicating successful identification of inherent groupings. However, the green cluster appears more distinct than the purple and red clusters.\n",
    "\n",
    "Agglomerative Hierarchical Clustering:\n",
    "Agglomerative Hierarchical Clustering identifies two clear clusters: a densely-packed red cluster dominating the upper area and a dispersed purple cluster in the lower region with some overlap. Both clusters demonstrate tight intra-cluster cohesion, suggesting effective grouping. The algorithm successfully captures a two-group structure within the dataset, as evident from the positioning and spread of clusters.\n",
    "\n",
    "DBSCAN:\n",
    "DBSCAN effectively identifies varying density-based structures within the dataset. The scatter plot visualization shows distinct densities and separations among green, red, and purple clusters, indicating DBSCAN's capability to discern different cluster structures. Despite some overlap, DBSCAN effectively separates clusters based on density, highlighting its utility for complex spatial data analysis.\n",
    "\n",
    "Comparison:\n",
    "K-Means demonstrates good performance in identifying clusters, particularly for well-separated clusters. However, it may struggle with overlapping clusters. Agglomerative Hierarchical Clustering effectively captures two distinct clusters but may be less suitable for datasets with complex structures. DBSCAN excels in identifying density-based structures, making it suitable for datasets with varying densities and shapes.\n",
    "\n",
    "Each clustering algorithm exhibits strengths and limitations in identifying clusters within the dataset. The choice of algorithm depends on the dataset characteristics and the desired outcome of the analysis. K-Means may be suitable for well-separated clusters, while Agglomerative Hierarchical Clustering and DBSCAN offer alternatives for datasets with complex structures or varying densities. A comprehensive understanding of each algorithm's behavior is crucial in selecting the most appropriate method for the dataset at hand."
   ]
  },
  {
   "cell_type": "markdown",
   "metadata": {},
   "source": [
    "7. Visualization: (10 points)\n",
    "n. Visualize the clustered data:\n",
    "o. Plot clusters using scatter plots, with each cluster represented by a different color.\n",
    "p. Optionally, visualize centroids or dendrograms (for hierarchical clustering)."
   ]
  },
  {
   "cell_type": "markdown",
   "metadata": {},
   "source": [
    "**n,o,p. Visualizing the clustered data**"
   ]
  },
  {
   "cell_type": "markdown",
   "metadata": {},
   "source": [
    "*K-Means*"
   ]
  },
  {
   "cell_type": "code",
   "execution_count": 34,
   "metadata": {},
   "outputs": [],
   "source": [
    "cc = km.cluster_centers_"
   ]
  },
  {
   "cell_type": "code",
   "execution_count": 35,
   "metadata": {},
   "outputs": [
    {
     "data": {
      "text/plain": [
       "Text(0.5, 1.0, 'K-Means Clustering ')"
      ]
     },
     "execution_count": 35,
     "metadata": {},
     "output_type": "execute_result"
    },
    {
     "data": {
      "image/png": "[encoded data removed]",
      "text/plain": [
       "<Figure size 576x432 with 1 Axes>"
      ]
     },
     "metadata": {
      "needs_background": "light"
     },
     "output_type": "display_data"
    }
   ],
   "source": [
    "plt.figure(figsize=(8, 6))\n",
    "plt.scatter(df_scaled[\"sepal length (cm)\"],df_scaled[\"sepal width (cm)\"], c=km_labels, cmap='rainbow', marker='o', s=100)\n",
    "plt.scatter(cc[:, 0], cc[:, 1], c='black', marker='x', s=200)\n",
    "plt.xlabel(\"sepal length (cm)\")\n",
    "plt.ylabel(\"sepal width (cm)\")\n",
    "plt.title(\"K-Means Clustering \")"
   ]
  },
  {
   "cell_type": "markdown",
   "metadata": {},
   "source": [
    "*Hierarchical Clustering*"
   ]
  },
  {
   "cell_type": "code",
   "execution_count": 36,
   "metadata": {},
   "outputs": [
    {
     "data": {
      "text/plain": [
       "Text(0.5, 1.0, 'Hierarchical Clustering')"
      ]
     },
     "execution_count": 36,
     "metadata": {},
     "output_type": "execute_result"
    },
    {
     "data": {
      "image/png": "[encoded data removed]",
      "text/plain": [
       "<Figure size 576x432 with 1 Axes>"
      ]
     },
     "metadata": {
      "needs_background": "light"
     },
     "output_type": "display_data"
    }
   ],
   "source": [
    "plt.figure(figsize=(8, 6))\n",
    "plt.scatter(df_scaled[\"sepal length (cm)\"],df_scaled[\"sepal width (cm)\"], c=hc_labels, cmap='rainbow', marker='o', s=100)\n",
    "plt.xlabel(\"sepal length (cm)\")\n",
    "plt.ylabel(\"sepal width (cm)\")\n",
    "plt.title(\"Hierarchical Clustering\")"
   ]
  },
  {
   "cell_type": "code",
   "execution_count": 37,
   "metadata": {},
   "outputs": [
    {
     "data": {
      "image/png": "[encoded data removed]",
      "text/plain": [
       "<Figure size 720x504 with 1 Axes>"
      ]
     },
     "metadata": {
      "needs_background": "light"
     },
     "output_type": "display_data"
    }
   ],
   "source": [
    "import scipy.cluster.hierarchy as hc\n",
    "import matplotlib.pyplot as plt\n",
    "\n",
    "plt.figure(figsize=(10, 7))\n",
    "plt.title(\"Dendrogram\")\n",
    "dend = hc.dendrogram(hc.linkage(df_scaled, method='single'))\n",
    "plt.show()"
   ]
  },
  {
   "cell_type": "markdown",
   "metadata": {},
   "source": [
    "*DBSCAN*"
   ]
  },
  {
   "cell_type": "code",
   "execution_count": 39,
   "metadata": {},
   "outputs": [
    {
     "data": {
      "text/plain": [
       "Text(0.5, 1.0, 'DBSCAN')"
      ]
     },
     "execution_count": 39,
     "metadata": {},
     "output_type": "execute_result"
    },
    {
     "data": {
      "image/png": "[encoded data removed]",
      "text/plain": [
       "<Figure size 576x432 with 1 Axes>"
      ]
     },
     "metadata": {
      "needs_background": "light"
     },
     "output_type": "display_data"
    }
   ],
   "source": [
    "plt.figure(figsize=(8, 6))\n",
    "plt.scatter(df_scaled[\"sepal length (cm)\"],df_scaled[\"sepal width (cm)\"], c=db_labels, cmap='rainbow', marker='o', s=100)\n",
    "plt.xlabel(\"sepal length (cm)\")\n",
    "plt.ylabel(\"sepal width (cm)\")\n",
    "plt.title(\"DBSCAN\")"
   ]
  },
  {
   "cell_type": "code",
   "execution_count": null,
   "metadata": {},
   "outputs": [],
   "source": []
  },
  {
   "cell_type": "code",
   "execution_count": null,
   "metadata": {},
   "outputs": [],
   "source": []
  },
  {
   "cell_type": "code",
   "execution_count": null,
   "metadata": {},
   "outputs": [],
   "source": []
  }
 ],
 "metadata": {
  "kernelspec": {
   "display_name": "Python 3",
   "language": "python",
   "name": "python3"
  },
  "language_info": {
   "codemirror_mode": {
    "name": "ipython",
    "version": 3
   },
   "file_extension": ".py",
   "mimetype": "text/x-python",
   "name": "python",
   "nbconvert_exporter": "python",
   "pygments_lexer": "ipython3",
   "version": "3.8.3"
  }
 },
 "nbformat": 4,
 "nbformat_minor": 4
}
